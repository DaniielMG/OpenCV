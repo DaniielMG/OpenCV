{
 "cells": [
  {
   "cell_type": "markdown",
   "metadata": {},
   "source": [
    "# Template Matching\n",
    "https://docs.opencv.org/4.x/de/da9/tutorial_template_matching.html"
   ]
  },
  {
   "cell_type": "code",
   "execution_count": 1,
   "metadata": {},
   "outputs": [
    {
     "data": {
      "image/png": "[encoded data removed]",
      "text/plain": [
       "<Figure size 640x480 with 1 Axes>"
      ]
     },
     "metadata": {},
     "output_type": "display_data"
    }
   ],
   "source": [
    "import numpy as np\n",
    "import cv2\n",
    "import matplotlib.pyplot as plt\n",
    "%matplotlib inline\n",
    "#¡Es muy intensivo en computo!\n",
    "# Función de búsqueda para la mejor similitud de una imagen a una plantilla.\n",
    "def find_matching(image, template):\n",
    "    # Convierte a escala de grises\n",
    "    image_gray = cv2.cvtColor(image, cv2.COLOR_BGR2GRAY)\n",
    "    template_gray = cv2.cvtColor(template, cv2.COLOR_BGR2GRAY)\n",
    "    # Encuentra el alto y el ancho de la plantilla\n",
    "    w, h = template_gray.shape[::-1]\n",
    "    # Aplica la búsqueda de similitud de la imagen con la plantilla. Se le pasa la imagen, la plantilla y el método\n",
    "    res = cv2.matchTemplate(image_gray, template_gray, cv2.TM_CCOEFF_NORMED)\n",
    "\n",
    "    # Obtener la mejor correspondencia\n",
    "    min_val, max_val, min_loc, max_loc = cv2.minMaxLoc(res)\n",
    "    # Obtener la esquina superior izquierda de la región de mayor correspondencia\n",
    "    top_left = max_loc\n",
    "    # Obtener la esquina inferior derecha d la región de mayor correspondencia\n",
    "    bottom_right = (top_left[0] + w, top_left[1] + h)\n",
    "    # Dibujar un rectángulo circunscrito a la región de mayor correspondencia.\n",
    "    cv2.rectangle(image, top_left, bottom_right, (0, 255, 0), 2)\n",
    "    return image\n",
    "    \n",
    "    \n",
    "# Función que obtiene una región de interés (ROI). En este caso corresponde a la región central de la imagen.\n",
    "def get_roi(image, roi_size):\n",
    "    # Obtener el tamaño de la imagen\n",
    "    height, width = image.shape[:2]\n",
    "    # Obtener el tamaño de la región de interés (ROI)\n",
    "    roi_height, roi_width = roi_size\n",
    "    # Calcular la región de la ROI.\n",
    "    x = int((width - roi_width)/2)\n",
    "    y = int((height - roi_height)/2)\n",
    "    # Obtener el ROI de la imagen.\n",
    "    roi = image[y:y+roi_height, x:x+roi_width]\n",
    "    return roi\n",
    "\n",
    "\n",
    "#cap = cv2.VideoCapture(1)\n",
    "cap = cv2.VideoCapture(\"carretera.mp4\")\n",
    "retVal, frame = cap.read()\n",
    "\n",
    "frame = cv2.resize(frame, (400, 300))\n",
    "template = get_roi(frame, (50, 50))\n",
    "\n",
    "# Mostrar la plantilla\n",
    "plt.imshow(template)\n",
    "\n",
    "while(1):\n",
    "    # Coger cada frame\n",
    "    retVal, frame = cap.read()\n",
    "    if not retVal:\n",
    "        break    \n",
    "    frame = cv2.resize(frame, (400, 300))\n",
    "    # Search for the template\n",
    "    frame = find_matching(frame, template)\n",
    "    # Show the image\n",
    "    cv2.imshow('Imagen',frame)\n",
    "    \n",
    "    k = cv2.waitKey(5) & 0xFF\n",
    "    if k == 27:\n",
    "        break\n",
    "\n",
    "cv2.destroyAllWindows()\n",
    "#release the frame\n",
    "cap.release()"
   ]
  },
  {
   "cell_type": "markdown",
   "metadata": {},
   "source": [
    "https://docs.opencv.org/4.8.0/d4/dc6/tutorial_py_template_matching.html"
   ]
  }
 ],
 "metadata": {
  "kernelspec": {
   "display_name": "opencv_kernel",
   "language": "python",
   "name": "opencv_kernel"
  },
  "language_info": {
   "codemirror_mode": {
    "name": "ipython",
    "version": 3
   },
   "file_extension": ".py",
   "mimetype": "text/x-python",
   "name": "python",
   "nbconvert_exporter": "python",
   "pygments_lexer": "ipython3",
   "version": "3.12.0"
  },
  "vscode": {
   "interpreter": {
    "hash": "aee8b7b246df8f9039afb4144a1f6fd8d2ca17a180786b69acc140d282b71a49"
   }
  }
 },
 "nbformat": 4,
 "nbformat_minor": 4
}
