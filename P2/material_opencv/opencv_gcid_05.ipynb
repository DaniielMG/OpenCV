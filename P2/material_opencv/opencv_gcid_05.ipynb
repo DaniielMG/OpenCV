{
 "cells": [
  {
   "cell_type": "markdown",
   "metadata": {},
   "source": [
    "# Detección de caras\n",
    "The Viola-Jones Algorithm (2001)\n",
    "https://www.cs.cmu.edu/~efros/courses/LBMV07/Papers/viola-cvpr-01.pdf\n",
    "\n"
   ]
  },
  {
   "cell_type": "code",
   "execution_count": 4,
   "metadata": {},
   "outputs": [],
   "source": [
    "import cv2\n",
    "\n",
    "# Load the cascade\n",
    " face_cascade = cv2.CascadeClassifier('haarcascade_frontalface_default.xml')\n",
    "# face_cascade = cv2.CascadeClassifier('haarcascade_eye.xml')\n",
    "# face_cascade = cv2.CascadeClassifier('haarcascade_fullbody.xml')\n",
    "\n",
    "\n",
    "cap = cv2.VideoCapture(\"people_walking2.mp4\")\n",
    "#cap = cv2.VideoCapture(1)\n",
    "\n",
    "while(1):\n",
    " \n",
    "    # Take each frame\n",
    "    retVal, frame = cap.read()\n",
    "    if not retVal:\n",
    "        break\n",
    "    frame = cv2.resize(frame, (400, 300))\n",
    "     \n",
    "    # Convertir la imagen a grises\n",
    "    frame = cv2.cvtColor(frame, cv2.COLOR_BGR2GRAY)\n",
    "    faces = face_cascade.detectMultiScale(frame)\n",
    "    for (x,y,w,h) in faces:\n",
    "        cv2.rectangle(frame,(x,y),(x+w,y+h),(255,0,0),2)\n",
    "\n",
    "    cv2.imshow('frame',frame)\n",
    "    k = cv2.waitKey(5) & 0xFF\n",
    "    if k == 27:\n",
    "        break\n",
    "\n",
    "cv2.destroyAllWindows()\n",
    "#release the frame\n",
    "cap.release()\n"
   ]
  },
  {
   "cell_type": "markdown",
   "metadata": {},
   "source": [
    "Es posible descargar más detectores en:\n",
    "\n",
    "https://github.com/opencv/opencv/tree/master/data/haarcascades"
   ]
  },
  {
   "cell_type": "markdown",
   "metadata": {},
   "source": [
    "https://towardsdatascience.com/face-detection-with-haar-cascade-727f68dafd08\n",
    "\n",
    "https://www.youtube.com/watch?v=LsK-xG1cLYA\n",
    "\n",
    "Se escogen diferentes patrones que se intentarán buscar en la imagen en diferentes posiciones y escalas. Cada patrón se considera como un clasificador débil. La unión de muchos de estos clasificadores mediante boosting convierte a este método en un clasificador robusto.\n",
    "\n",
    "<img src=\"haar8.png\" width=\"30%\">\n",
    "\n",
    "<img src=\"haar9.jpeg\" width=\"30%\">\n",
    "\n",
    "Una vez aplicado el patrón en un lugar concreto de la imagen, se lleva a cabo el cálculo de la comparación.\n",
    "\n",
    "<img src=\"haar2.webp\" width=\"100%\">\n",
    "\n",
    "Cada patrón se buscar a lo largo y ancho de la imagen.\n",
    "\n",
    "<img src=\"haar3.gif\" width=\"40%\">\n",
    "\n",
    "Este proceso es muy costoso computacionalmente así que se crea una iamgen integral que reducirá muchísimo los cálculos.\n",
    "\n",
    "<img src=\"haar4.gif\" width=\"100%\">\n",
    "\n",
    "<img src=\"haar5.webp\" width=\"100%\">\n",
    "\n",
    "Otro truco para mejorar la velocidad consiste en pasar los patrones es diferentes estapas, el algoritmo original usa 38 etapas. Cuando una no responde positivamente la subventana se descarta y no se considera que contenga una cara.\n",
    "\n",
    "<img src=\"haar6.gif\" width=\"70%\">\n",
    "\n",
    "Cuando una subventana pasa todos los patrones se considera que ha detectado una cara.\n",
    "\n",
    "<img src=\"haar7.gif\" width=\"40%\">\n",
    "\n"
   ]
  },
  {
   "cell_type": "markdown",
   "metadata": {},
   "source": [
    "## Ejercicios\n",
    "\n",
    "- Adapta el algoritmo de detección de caras a detección de personas (cuerpo entero). Usa el vídeo <code>people_walking.mp4</code> para probarlo.\n",
    "\n",
    "- Desarrolla un sistema de detección de caras robusto que mantenga la atención sobre una cara sin perder su posición. Para ello, combina la función de detección de caras con la función de tracking de manera que, cuando la detección de caras falle, el tracking pueda seguir encuadrando la cara."
   ]
  },
  {
   "cell_type": "markdown",
   "metadata": {},
   "source": []
  }
 ],
 "metadata": {
  "kernelspec": {
   "display_name": "opencv_kernel",
   "language": "python",
   "name": "opencv_kernel"
  },
  "language_info": {
   "codemirror_mode": {
    "name": "ipython",
    "version": 3
   },
   "file_extension": ".py",
   "mimetype": "text/x-python",
   "name": "python",
   "nbconvert_exporter": "python",
   "pygments_lexer": "ipython3",
   "version": "3.12.0"
  },
  "vscode": {
   "interpreter": {
    "hash": "44a9cdcbdccbf05a880e90d2e6fe72470baab4d1b82472d890be0596ed887a6b"
   }
  }
 },
 "nbformat": 4,
 "nbformat_minor": 4
}
